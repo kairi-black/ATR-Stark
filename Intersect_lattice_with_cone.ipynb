{
 "cells": [
  {
   "cell_type": "markdown",
   "id": "d32565eb-0db8-4e07-8c9e-c219c465cafb",
   "metadata": {},
   "source": [
    "SMALL HELPER METHODS"
   ]
  },
  {
   "cell_type": "code",
   "execution_count": 1,
   "id": "56888f7f-e18e-4264-bfd3-62d8b67aa7d2",
   "metadata": {},
   "outputs": [],
   "source": [
    "def matrix_multiply(coordinate_vecs, matrix):\n",
    "    \"\"\"Multiply the vectors in coordinate_vecs by matrix.\"\"\"\n",
    "    results = []\n",
    "    for coordinate_vec in coordinate_vecs:\n",
    "        coordinates = vector(coordinate_vec)\n",
    "        point = matrix*coordinates\n",
    "        results.append(point)\n",
    "    return results"
   ]
  },
  {
   "cell_type": "code",
   "execution_count": 2,
   "id": "f2808730-4a94-400d-a6b8-96f4b7cecc3e",
   "metadata": {},
   "outputs": [],
   "source": [
    "def dot_product(vector1, vector2):\n",
    "    \"\"\"Compute the dot product between the two vectors/lists.\"\"\"\n",
    "    products = [a*b for a,b in zip(vector1,vector2)]\n",
    "    sum = 0\n",
    "    for product in products:\n",
    "        sum += product\n",
    "    return sum"
   ]
  },
  {
   "cell_type": "code",
   "execution_count": 3,
   "id": "7d0ae1e4-8c55-4ad3-8392-da12c3cfa69d",
   "metadata": {},
   "outputs": [],
   "source": [
    "def scalar_product(scalars, vectors):\n",
    "    \"\"\"Compute the 'dot product' between the list of scalars and list of vectors.\n",
    "    Return the result as a vector.\"\"\"\n",
    "    products = [numpy.multiply(c, vector) for c,vector in zip(scalars,vectors)]\n",
    "    sum = numpy.array([0.0*_ for _ in range(0,len(vectors[0]))])\n",
    "    for product in products:\n",
    "        sum += numpy.array(product)\n",
    "    return vector(sum)"
   ]
  },
  {
   "cell_type": "code",
   "execution_count": 4,
   "id": "033abf43-4efb-4686-bdd0-b0fddc051dd2",
   "metadata": {},
   "outputs": [],
   "source": [
    "import numpy\n",
    "def get_parallelpiped(gens):\n",
    "    \"\"\"Return the parallelpiped spanned by gens, expected as vectors of the same length.\"\"\"\n",
    "    # return Polytope object which gives parallelpiped of spanned by generators\n",
    "    list_of_vertices = []\n",
    "\n",
    "    for scalings in Tuples([0,1], len(gens)).list(): # Tuples are ordered, with repitition\n",
    "        # compute vertex as \"dot product\" of scalings and cone_generators\\\n",
    "        vertex = scalar_product(scalings, gens)\n",
    "        list_of_vertices.append(vertex)\n",
    "\n",
    "    return Polyhedron(vertices = list_of_vertices, base_ring=QQ)"
   ]
  },
  {
   "cell_type": "code",
   "execution_count": 5,
   "id": "0708b914-3e8e-4f37-9639-b2cea90dfa57",
   "metadata": {},
   "outputs": [],
   "source": [
    "def change_basis(vecs, basis):\n",
    "    \"\"\"Compute the coordinates of vecs in terms of given basis (assumed linearly independent).\n",
    "    Assume that vecs and basis are expressed in the same coordinate system.\"\"\"\n",
    "    matrix_of_basis = matrix(basis).transpose().inverse()\n",
    "    new_coords = matrix_multiply(vecs, matrix_of_basis)\n",
    "    return new_coords"
   ]
  },
  {
   "cell_type": "code",
   "execution_count": 6,
   "id": "45a4f850-3c95-43cb-b86b-264c062e1741",
   "metadata": {},
   "outputs": [],
   "source": [
    "def revert_basis(vecs, old_basis):\n",
    "    \"\"\"Compute the coordinates of vecs in terms of the basis in which old_basis is expressed.\n",
    "    Assume that vecs are expressed in coordinate system determined by old_basis.\"\"\"\n",
    "    matrix_of_basis = matrix(old_basis).transpose()\n",
    "    new_coords = matrix_multiply(vecs, matrix_of_basis)\n",
    "    return new_coords"
   ]
  },
  {
   "cell_type": "code",
   "execution_count": 7,
   "id": "cfa2be68-161d-4c5f-9dd3-bc63b977be11",
   "metadata": {},
   "outputs": [],
   "source": [
    "def show_graph(dimn, graph):\n",
    "    \"\"\"Graph the given graph.\"\"\"\n",
    "    if dimn == 2:\n",
    "        graph.show()\n",
    "    if dimn == 3:\n",
    "        from sage.plot.plot3d.plot3d import axes\n",
    "        graph += axes(scale = 5, radius = 1.2, color = 'black')\n",
    "        graph.show(viewer = \"tachyon\")\n",
    "        # graph.show(viewer = \"java3d\")\n",
    "        # graph.show(viewer = \"canvas3d\")\n",
    "        # graph.show(viewer = \"jsmol\")"
   ]
  },
  {
   "cell_type": "markdown",
   "id": "fbb0d478-e84e-4aef-81d3-d8d8a71d5d5a",
   "metadata": {},
   "source": [
    "COMPUTATION OF $R_p$ SETS"
   ]
  },
  {
   "cell_type": "code",
   "execution_count": 8,
   "id": "761c3c8c-df1d-4a2a-845a-475d18525d21",
   "metadata": {},
   "outputs": [],
   "source": [
    "def get_xvecs(domain, ideal):\n",
    "    \"\"\"Return a dictionary, indexed by cones, giving R_{cone}(ideal*f + 1), where f is the conductor in domain.field.\n",
    "    Assume that the generators of the cone lie in f*ideal.\"\"\"\n",
    "    xvecs = dict([]) # will be indexed by cones\n",
    "    field = domain.field\n",
    "    f = field.f\n",
    "\n",
    "    print('Getting xvecs for ideal =', factor(ideal), end = '\\n\\n')\n",
    "    \n",
    "    for mu in domain.cones.keys(): # for each cone\n",
    "        cone_gens = domain.cones[mu]\n",
    "        boundaries = domain.boundaries[mu]\n",
    "        # store cone gens in lattice basis\n",
    "        integer_cone = [ideal.coordinates(cone_gen) for cone_gen in cone_gens] \n",
    "        # get integral points in parallelpiped spanned by integer_cone\n",
    "        ppiped = get_parallelpiped(integer_cone) \n",
    "        integer_intersection = list(ppiped.integral_points()) \n",
    "\n",
    "        print('cone_gens =', cone_gens)\n",
    "        # print('boundaries =', boundaries)\n",
    "        # print('count of integer intersection:', len(integer_intersection))\n",
    "        \n",
    "        # only want intersection elements congruent to 1 modulo f\n",
    "        congruent_intersection = get_equiv_one(integer_intersection, ideal.basis(), f)\n",
    "        congruent_intersection = change_basis(congruent_intersection, integer_cone) # change to cone basis\n",
    "        # congruent_intersection = revert_basis(congruent_intersection, integer_cone) # change back to lattice basis\n",
    "        # congruent_intersection = change_basis(congruent_intersection, integer_cone) # change to cone basis\n",
    "\n",
    "        # print('norm of f =', norm(f))\n",
    "        # print('count of integer intersection / norm =', len(integer_intersection)/norm(f).n(digits = 3))\n",
    "        # print('count of congruent to 1 mod f =', len(congruent_intersection), end = '\\n')\n",
    "        \n",
    "        # manage boundaries\n",
    "        \n",
    "        def including_zero_not_one(x):\n",
    "            return (0 <= x) and (x < 1)\n",
    "        def including_one_not_zero(x):\n",
    "            return (0 < x) and (x <= 1)\n",
    "\n",
    "        for xvec in congruent_intersection.copy(): # for each xvec\n",
    "            for boundary, xj in zip(boundaries, xvec): # check that each coordinate checks out\n",
    "                good = True\n",
    "                if boundary == 0:\n",
    "                    if not including_zero_not_one(xj):\n",
    "                        good = False\n",
    "                        break\n",
    "                elif boundary == 1:\n",
    "                    if not including_one_not_zero(xj):\n",
    "                        good = False\n",
    "                        break\n",
    "            if not good:\n",
    "                congruent_intersection.remove(xvec)\n",
    "                        \n",
    "        print('final count of xvec:', len(congruent_intersection), end = '\\n\\n')\n",
    "\n",
    "        xvecs[mu] = congruent_intersection\n",
    "    \n",
    "    return xvecs"
   ]
  },
  {
   "cell_type": "code",
   "execution_count": 9,
   "id": "7423ceb0-2912-462d-a46d-04689431fb1a",
   "metadata": {},
   "outputs": [],
   "source": [
    "def test_ideal_element(integer_coordinates, ideal_basis, test):\n",
    "    \"\"\"Given an element of an ideal (via its integer coordinates in terms of the ideal's basis),\n",
    "    return True if the element passes test, and False otherwise.\"\"\"\n",
    "    good = []\n",
    "    for coord in integer_coordinates:\n",
    "        alpha = dot_product(ideal_basis, coord)\n",
    "        # print('testing alpha =', alpha)\n",
    "        if test(alpha): # if alpha is congruent to 1 modulo f\n",
    "            good.append(coord)\n",
    "    return good"
   ]
  },
  {
   "cell_type": "code",
   "execution_count": 10,
   "id": "15ae6937-8e44-4058-807e-25d6fb196da7",
   "metadata": {},
   "outputs": [],
   "source": [
    "def get_equiv_one(integer_coordinates, ideal_basis, f): \n",
    "    equiv_one = lambda alpha : f.reduce(alpha) == f.reduce(1)\n",
    "    return test_ideal_element(integer_coordinates, ideal_basis, equiv_one)"
   ]
  },
  {
   "cell_type": "code",
   "execution_count": 11,
   "id": "b91b6869-c4a9-4a03-9da2-1461bb7eb36c",
   "metadata": {},
   "outputs": [],
   "source": [
    "def get_in_frakc(integer_coordinates, ideal_basis, frackc):\n",
    "    in_frakc = lambda alpha : alpha in frakc\n",
    "    return test_ideal_element(integer_coordinates, ideal_basis, in_frakc)"
   ]
  },
  {
   "cell_type": "code",
   "execution_count": null,
   "id": "a702193d-2fe5-4800-b190-faa31fd5cf45",
   "metadata": {},
   "outputs": [],
   "source": [
    "def ell_to_one_map(h, xvec, list_xvecs_prime):\n",
    "    \"\"\"Compute the image in list_xvecs_prime of xvec under\n",
    "    the ell-to-one map phi_h of our proposition on comparing to RS's work.\"\"\"\n",
    "    images = []\n",
    "    for xvec_prime in list_xvecs_prime:\n",
    "        if all_but_xh_equal(h, xvec, xvec_prime):\n",
    "            images.append(xvec_prime)      \n",
    "    return images"
   ]
  },
  {
   "cell_type": "code",
   "execution_count": null,
   "id": "2448f684-6d0c-44d4-940f-69c18f9b3927",
   "metadata": {},
   "outputs": [],
   "source": [
    "def all_but_xh_equal(h, xvec, xvec_prime):    \n",
    "    for j in range(0, len(xvec)): # check that all but x_h are equal\n",
    "        if j == h - 1:\n",
    "            continue\n",
    "        elif xvec[j] != xvec_prime[j]:\n",
    "            return False\n",
    "    h_diff = xvec_prime[h-1] - xvec[h-1]  # check h-th entry equiv mod 1/ell*Z\n",
    "    return (ell % h_diff.denominator()) == 0"
   ]
  },
  {
   "cell_type": "code",
   "execution_count": null,
   "id": "15d383c0-de3d-40db-a9b4-18834f771d3f",
   "metadata": {},
   "outputs": [],
   "source": [
    "def ell_to_one_inverse(h, list_xvecs, xvec_prime):\n",
    "    \"\"\"Compute the inverse image of xvec_prime in list_xvecs.\"\"\"\n",
    "    pre_images = []\n",
    "    for xvec in list_xvecs:\n",
    "        if all_but_xh_equal(h, xvec, xvec_prime):\n",
    "            pre_images.append(xvec)      \n",
    "    return pre_images"
   ]
  },
  {
   "cell_type": "markdown",
   "id": "b5d088f9-cd71-4702-9963-b9fa9c584d3b",
   "metadata": {},
   "source": [
    "DOMAIN & IDEAL METHODS"
   ]
  },
  {
   "cell_type": "code",
   "execution_count": 12,
   "id": "22af34e2-d44b-4f40-8101-332a497e843b",
   "metadata": {},
   "outputs": [],
   "source": [
    "def find_valid_c(domain_data): # ToDO: add to domain dataclass?\n",
    "    \"\"\"Return a valid smoothing prime for the given domain/field and conductor f.\"\"\" \n",
    "    # 1. Norm(c) is at least n (expect as integer)\n",
    "    # 2. The residue field of c is cyclic\n",
    "    # 3. The ideal c is coprime to f (expect as ideal)\n",
    "    # 4. The ideal c is coprime to the generators of the cones (expect as dictionary)\n",
    "    cones = domain_data.cones\n",
    "    n = domain_data.field.n\n",
    "    K = domain_data.field.K\n",
    "    f = domain_data.field.f\n",
    "    \n",
    "    list_of_generators = []\n",
    "    for cone in cones.values():\n",
    "        for cone_generator in cone:\n",
    "            list_of_generators.append(cone_generator)\n",
    "    list_of_generators = set(list_of_generators)\n",
    "\n",
    "    # import pdb\n",
    "    # pdb.set_trace()\n",
    "    \n",
    "    print('Searching for a valid smoothing prime.')\n",
    "    \n",
    "    for ell in Primes():\n",
    "        if ell <= n - 1: # check 1\n",
    "            continue\n",
    "        print('Checking primes above', ell)\n",
    "        for candidate in K.primes_above(ell):\n",
    "            if not candidate.residue_class_degree() == 1: # check 2\n",
    "                continue\n",
    "            if not candidate.is_coprime(f): # check 3 \n",
    "                continue\n",
    "            valid = True\n",
    "            for generator in list_of_generators: # check 4\n",
    "                if not candidate.is_coprime(generator):\n",
    "                    print(candidate, 'is not coprime to the generator', generator)\n",
    "                    valid = False\n",
    "                    break\n",
    "            if valid:\n",
    "                return candidate"
   ]
  },
  {
   "cell_type": "code",
   "execution_count": 13,
   "id": "f536af19-9a0d-48c2-93ff-3cb39098a876",
   "metadata": {},
   "outputs": [],
   "source": [
    "def pick_some_c(K, fraka, f):\n",
    "    \"\"\"Return a valid smoothing prime for the given field K, fraka, and conductor f.\"\"\" \n",
    "    # 1. Norm(c) is at least degree of K\n",
    "    # 2. The residue field of c is cyclic\n",
    "    # 3. The ideal c is coprime to f (expect as ideal of K)\n",
    "    # 4. The ideal c is coprime to fraka (expect as ideal of K)\n",
    "    for ell in Primes():\n",
    "        if ell < K.degree(): # check 1\n",
    "            continue\n",
    "        print('Checking primes above', ell)\n",
    "        valid = True\n",
    "        for candidate in K.primes_above(ell):\n",
    "            if not candidate.residue_class_degree() == 1: # check 2\n",
    "                valid = False\n",
    "            if not candidate.is_coprime(f): # check 3 \n",
    "                valid = False\n",
    "            if not candidate.is_coprime(fraka): # check 4\n",
    "                valid = False\n",
    "            if valid:\n",
    "                c = candidate\n",
    "                break\n",
    "        if valid:\n",
    "            break\n",
    "    return c"
   ]
  },
  {
   "cell_type": "code",
   "execution_count": 14,
   "id": "b1bf51a4-ea47-4ccf-98b3-8bd5eeba3954",
   "metadata": {},
   "outputs": [
    {
     "name": "stdout",
     "output_type": "stream",
     "text": [
      "The field with min_poly x^3 + x^2 - 1 is ATR.\n",
      "Positive S-units =  [-1, theta^2 + theta]\n",
      "Using units = [-1, theta]\n",
      "\n",
      "Computing Shintani domain for ATR field of x^3 + x^2 - 1 \n",
      "\n",
      "Counts of nonzero orientations, listed -1,1: \t [3, 1] \n",
      "\n",
      "The total number of cones is  4 \n",
      "\n"
     ]
    }
   ],
   "source": [
    "%run Signed_fundamental_domain_Espinoza.ipynb"
   ]
  },
  {
   "cell_type": "markdown",
   "id": "f8b58182-73cd-474e-a85c-7c11501679b7",
   "metadata": {},
   "source": [
    "GRAPHING XVECS"
   ]
  },
  {
   "cell_type": "code",
   "execution_count": 15,
   "id": "292cd7ea-9217-4526-a526-ced12f0ab3e9",
   "metadata": {},
   "outputs": [],
   "source": [
    "def graph_faces_of_cones(domain, xvecs):\n",
    "\n",
    "    if domain.field.n > 3:\n",
    "        print('Dimension too large to graph.')\n",
    "        return\n",
    "    \n",
    "    field = domain.field\n",
    "    cones = domain.cones\n",
    "    cone_keys = cones.keys()\n",
    "    zero_cutoff = 10^(-5)\n",
    "\n",
    "    for mu in cone_keys:\n",
    "        cone = cones[mu]\n",
    "        cone_generators = Minkowski_embed(field, cone)\n",
    "        print('mu =', mu, 'cone =', cone)\n",
    "        print('boundaries = ', domain.boundaries[mu])\n",
    "        print()\n",
    "\n",
    "        graph3 = None\n",
    "        for cone_generator in cone_generators:\n",
    "            graph3 += line3d([(0,0,0), cone_generator], opacity = 0.7, radius = 0.15, color='black')\n",
    "        # setup colors that we will cycle through\n",
    "        colormap_name = \"Set1\"\n",
    "        cmap = mpl.colormaps[colormap_name]  # type: matplotlib.colors.ListedColormap\n",
    "        colors = cycle(cmap.colors)\n",
    "        \n",
    "        for j in range(0, len(cone)): # graph the j-th face (determined by omitting the j-th cone generator)\n",
    "            \n",
    "            sub_xvec_set = []\n",
    "            for xvec in xvecs[mu]: # get all vectors in xvecs with j-th coordinate 0\n",
    "                if xvec[j] == 0:\n",
    "                    sub_xvec = list(xvec)\n",
    "                    del sub_xvec[j]\n",
    "                    sub_xvec_set.append(vector(sub_xvec))\n",
    "            print('j =', j, 'sub_xvec_set =', sub_xvec_set)\n",
    "            if sub_xvec_set == []: # skip graph if nothing to graph\n",
    "                continue\n",
    "            # setup, and print remaining cone generators\n",
    "            graph = Graphics()\n",
    "            sub_cone_generators = cone_generators.copy()\n",
    "            del sub_cone_generators[j]\n",
    "            print('sub_cone_generators =', sub_cone_generators)\n",
    "            # rotate vector normal to plane spanned by remaining sub_cone_generators to z-axis\n",
    "            gen1 = vector(sub_cone_generators[0])\n",
    "            gen2 = vector(sub_cone_generators[1])\n",
    "            normal_vec = gen1.cross_product(gen2) \n",
    "            zaxis = vector((0, 0, 1)) # the direction we want normal_vec to end up on\n",
    "            costheta = normal_vec.dot_product(zaxis)/(norm(normal_vec)*norm(zaxis))\n",
    "            rotate_axis = normal_vec.cross_product(zaxis)\n",
    "            rotate_axis = rotate_axis/norm(rotate_axis)\n",
    "            c = costheta\n",
    "            s = sqrt(1-c*c)\n",
    "            C = 1-c\n",
    "            x = rotate_axis[0]\n",
    "            y = rotate_axis[1]\n",
    "            z = rotate_axis[2]\n",
    "            rotation_matrix = matrix([[ x*x*C + c, x*y*C - z*s, x*z*C + y*s ],\n",
    "              [ y*x*C + z*s, y*y*C + c, y*z*C - x*s ],\n",
    "              [ z*x*C - y*s, z*y*C + x*s, z*z*C + c ]])\n",
    "            print('rotation matrix =', rotation_matrix)\n",
    "            \n",
    "            graph3 = add_conical_span_to_graph(sub_cone_generators, sub_xvec_set, rotation_matrix, colors, graph3)\n",
    "        show_graph(3, graph3)"
   ]
  },
  {
   "cell_type": "code",
   "execution_count": 16,
   "id": "4e7fea8a-1f8e-4e20-a43e-a2610bee8b37",
   "metadata": {},
   "outputs": [],
   "source": [
    "from itertools import cycle\n",
    "import matplotlib as mpl\n",
    "\n",
    "def add_conical_span_to_graph(sub_cone_generators, sub_xvec_set, rotation_matrix, colors, graph3, N = 1): \n",
    "    \"\"\"Add sub_xvec_set to the given graph, along with N translates of each cone generator.\"\"\"\n",
    "\n",
    "    if sub_xvec_set == []:\n",
    "        return graph\n",
    "    \n",
    "    list_pts = []\n",
    "\n",
    "    graph2 = Graphics()\n",
    "\n",
    "    for sub_cone_generator in sub_cone_generators.copy():\n",
    "        rotated_generator = rotation_matrix*vector(sub_cone_generator)\n",
    "        graph2 += line2d([(0,0), rotated_generator[:-1]], alpha = 0.7, thickness = 1.5, color='black')\n",
    "    \n",
    "    for scalars in Tuples(range(0, N + 1), len(sub_xvec_set[0])).list(): # Tuples are ordered, with repitition\n",
    "        colour = next(colors)\n",
    "        for xvec in sub_xvec_set:\n",
    "            cone_coordinates = numpy.array(xvec) + numpy.array(scalars)\n",
    "            point = scalar_product(vector(cone_coordinates), sub_cone_generators)\n",
    "            graph3 += points(point, marker = 'o', pointsize = 15, color = colour, alpha = 1)\n",
    "            point = rotation_matrix*point\n",
    "            # list_pts.append(point)\n",
    "            graph2 += points(point[:-1], marker = 'o', pointsize = 25, color = colour, alpha = 1)\n",
    "    # print('list_pts =', list_pts)\n",
    "    # show_graph(3, graph3)\n",
    "    show_graph(2, graph2)\n",
    "    return graph3"
   ]
  },
  {
   "cell_type": "markdown",
   "id": "0c03280b-7761-4733-ae0e-3dedf5313e15",
   "metadata": {},
   "source": [
    "Interrupt"
   ]
  },
  {
   "cell_type": "markdown",
   "id": "f27dc858-a85d-4bb8-b947-f5706658c25a",
   "metadata": {},
   "source": [
    "RUN CODE"
   ]
  },
  {
   "cell_type": "code",
   "execution_count": 17,
   "id": "f5328062-14b0-49eb-aee5-245d4489e52f",
   "metadata": {},
   "outputs": [
    {
     "name": "stdout",
     "output_type": "stream",
     "text": [
      "The field with min_poly x^3 + x^2 - 1 is ATR.\n",
      "Positive S-units =  [-1, theta^2 + theta]\n",
      "Using units = [-1, theta]\n",
      "\n",
      "Computing Shintani domain for ATR field of x^3 + x^2 - 1 \n",
      "\n",
      "Counts of nonzero orientations, listed -1,1: \t [1, 0] \n",
      "\n",
      "The total number of cones is  1 \n",
      "\n"
     ]
    }
   ],
   "source": [
    "# # R.<x> = PolynomialRing(ZZ)\n",
    "# # min_poly = x^3 - 2\n",
    "# # field = FieldData(min_poly)\n",
    "# # domain = compute_fundamental_domain(field)\n",
    "\n",
    "# domain = Espinoza_domain('3.1.2')\n",
    "\n",
    "# domain.print_cones()"
   ]
  },
  {
   "cell_type": "code",
   "execution_count": 18,
   "id": "5bc44671-57e4-492e-a31a-9c3cd2d3bde0",
   "metadata": {},
   "outputs": [
    {
     "name": "stdout",
     "output_type": "stream",
     "text": [
      "Checking primes above 3\n",
      "Checking primes above 5\n",
      "frakc is Fractional ideal (theta^2 + 1) with ell = 5 \n",
      "\n"
     ]
    }
   ],
   "source": [
    "# K = domain.field.K\n",
    "\n",
    "# f = domain.field.f\n",
    "# fraka = K.ideal((1))\n",
    "# frakc = pick_some_c(K, fraka, f)\n",
    "# ell = norm(frakc)\n",
    "# print('frakc is', frakc, 'with ell =', ell, '\\n') \n",
    "\n",
    "# ideals = [fraka, frakc, domain.field.f]\n",
    "# domain.scale_cone_gens(ideals)"
   ]
  },
  {
   "cell_type": "code",
   "execution_count": 19,
   "id": "0d4e5e98-d9b1-400a-b782-22f944ce0c1f",
   "metadata": {},
   "outputs": [
    {
     "name": "stdout",
     "output_type": "stream",
     "text": [
      "Getting xvecs for ideal = 1\n",
      "\n",
      "cone_gens = [5, 5*theta^2, 5*theta^2 + 5*theta]\n",
      "final count of xvec: 125\n",
      "\n",
      "mu = ((), 1, 1) cone = [5, 5*theta^2, 5*theta^2 + 5*theta]\n",
      "boundaries =  [False, True, False]\n",
      "\n",
      "j = 0 sub_xvec_set = [(1, 0), (1, 1/5), (1, 2/5), (1, 3/5), (1, 4/5), (4/5, 0), (4/5, 1/5), (4/5, 2/5), (4/5, 3/5), (4/5, 4/5), (3/5, 0), (3/5, 1/5), (3/5, 2/5), (3/5, 3/5), (3/5, 4/5), (2/5, 0), (2/5, 1/5), (2/5, 2/5), (2/5, 3/5), (2/5, 4/5), (1/5, 0), (1/5, 1/5), (1/5, 2/5), (1/5, 3/5), (1/5, 4/5)]\n",
      "sub_cone_generators = [[1.0753992725048669, 6.535706393410227, 2.8492014549902662], [-3.3117948931118653, 2.811397560311506, 6.6235897862237305]]\n",
      "rotation matrix = [ 0.6188090422557604 0.17891731536113914 -0.7648947401351842]\n",
      "[0.17891731536113914  0.9160226519394108  0.3590140601673583]\n",
      "[ 0.7648947401351842 -0.3590140601673583  0.5348316941951713]\n"
     ]
    },
    {
     "data": {
      "image/png": "[encoded data removed]",
      "text/plain": [
       "Graphics object consisting of 102 graphics primitives"
      ]
     },
     "metadata": {},
     "output_type": "display_data"
    },
    {
     "name": "stdout",
     "output_type": "stream",
     "text": [
      "j = 1 sub_xvec_set = []\n",
      "j = 2 sub_xvec_set = [(0, 1), (0, 4/5), (0, 3/5), (0, 2/5), (0, 1/5), (1/5, 1), (1/5, 4/5), (1/5, 3/5), (1/5, 2/5), (1/5, 1/5), (2/5, 1), (2/5, 4/5), (2/5, 3/5), (2/5, 2/5), (2/5, 1/5), (3/5, 1), (3/5, 4/5), (3/5, 3/5), (3/5, 2/5), (3/5, 1/5), (4/5, 1), (4/5, 4/5), (4/5, 3/5), (4/5, 2/5), (4/5, 1/5)]\n",
      "sub_cone_generators = [[5.0, 0.0, 5.0], [1.0753992725048669, 6.535706393410227, 2.8492014549902662]]\n",
      "rotation matrix = [  0.7153980499389665 -0.07724146859884427   0.6944345798361553]\n",
      "[-0.07724146859884427   0.9790365298971887  0.18847076339730978]\n",
      "[ -0.6944345798361553 -0.18847076339730978   0.6944345798361553]\n"
     ]
    },
    {
     "data": {
      "image/png": "[encoded data removed]",
      "text/plain": [
       "Graphics object consisting of 102 graphics primitives"
      ]
     },
     "metadata": {},
     "output_type": "display_data"
    },
    {
     "data": {
      "image/png": "[encoded data removed]",
      "text/plain": [
       "Graphics3d Object"
      ]
     },
     "metadata": {},
     "output_type": "display_data"
    }
   ],
   "source": [
    "# # graph lattices inside cones\n",
    "# xvecs = get_xvecs(domain, fraka)\n",
    "# graph_faces_of_cones(domain, xvecs)"
   ]
  }
 ],
 "metadata": {
  "kernelspec": {
   "display_name": "SageMath 10.5.rc0",
   "language": "sage",
   "name": "sagemath"
  },
  "language_info": {
   "codemirror_mode": {
    "name": "ipython",
    "version": 3
   },
   "file_extension": ".py",
   "mimetype": "text/x-python",
   "name": "python",
   "nbconvert_exporter": "python",
   "pygments_lexer": "ipython3",
   "version": "3.12.5"
  }
 },
 "nbformat": 4,
 "nbformat_minor": 5
}
